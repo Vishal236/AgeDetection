{
 "cells": [
  {
   "cell_type": "code",
   "execution_count": 1,
   "metadata": {},
   "outputs": [
    {
     "name": "stderr",
     "output_type": "stream",
     "text": [
      "Using TensorFlow backend.\n"
     ]
    }
   ],
   "source": [
    "import tensorflow as tf\n",
    "import keras\n",
    "import numpy as np\n",
    "import pandas as pd"
   ]
  },
  {
   "cell_type": "code",
   "execution_count": 2,
   "metadata": {},
   "outputs": [],
   "source": [
    "from keras.applications import vgg16"
   ]
  },
  {
   "cell_type": "code",
   "execution_count": 3,
   "metadata": {},
   "outputs": [],
   "source": [
    "top_model = vgg16.VGG16(include_top = False,weights = 'imagenet',pooling = 'max', classes = 3)\n",
    "for layer in top_model.layers[:-4]:\n",
    "    layer.trainable = False"
   ]
  },
  {
   "cell_type": "code",
   "execution_count": 4,
   "metadata": {},
   "outputs": [
    {
     "name": "stdout",
     "output_type": "stream",
     "text": [
      "          ID   Class\n",
      "0      0.jpg  MIDDLE\n",
      "1      1.jpg     OLD\n",
      "2    100.jpg  MIDDLE\n",
      "3  10000.jpg  MIDDLE\n",
      "4  10001.jpg   YOUNG\n"
     ]
    }
   ],
   "source": [
    "Train_Id = pd.read_csv(\"Train.csv\")\n",
    "print(Train_Id.head(5))\n",
    "Test_Id = pd.read_csv(\"Test_Age.csv\")"
   ]
  },
  {
   "cell_type": "code",
   "execution_count": 5,
   "metadata": {},
   "outputs": [
    {
     "data": {
      "text/plain": [
       "count      19906\n",
       "unique         3\n",
       "top       MIDDLE\n",
       "freq       10804\n",
       "Name: Class, dtype: object"
      ]
     },
     "execution_count": 5,
     "metadata": {},
     "output_type": "execute_result"
    }
   ],
   "source": [
    "Train_Id[\"Class\"].describe()"
   ]
  },
  {
   "cell_type": "code",
   "execution_count": 6,
   "metadata": {},
   "outputs": [
    {
     "name": "stdout",
     "output_type": "stream",
     "text": [
      "Number of Training Examples:- 19906\n",
      "Number of Test Examples:- 6636\n"
     ]
    }
   ],
   "source": [
    "print(\"Number of Training Examples:-\",str(Train_Id.shape[0]))\n",
    "print(\"Number of Test Examples:-\",str(Test_Id.shape[0]))"
   ]
  },
  {
   "cell_type": "code",
   "execution_count": 7,
   "metadata": {},
   "outputs": [
    {
     "name": "stdout",
     "output_type": "stream",
     "text": [
      "[[1 0 0]\n",
      " [0 1 0]\n",
      " [1 0 0]\n",
      " ...\n",
      " [1 0 0]\n",
      " [0 0 1]\n",
      " [0 0 1]]\n"
     ]
    }
   ],
   "source": [
    "Y = pd.get_dummies(Train_Id[\"Class\"]).values\n",
    "print(Y)"
   ]
  },
  {
   "cell_type": "code",
   "execution_count": 8,
   "metadata": {},
   "outputs": [],
   "source": [
    "import cv2\n",
    "X = []\n",
    "for i in range(Train_Id.shape[0]) :\n",
    "    dir = str(\"Train/\" + str(Train_Id.iloc[i,0])) \n",
    "    temp = cv2.imread(dir.strip(),1)\n",
    "    t = cv2.resize(temp,(64,64))\n",
    "    X.append(t)"
   ]
  },
  {
   "cell_type": "code",
   "execution_count": 10,
   "metadata": {},
   "outputs": [
    {
     "data": {
      "image/png": "[encoded data removed]",
      "text/plain": [
       "<Figure size 432x288 with 1 Axes>"
      ]
     },
     "metadata": {
      "needs_background": "light"
     },
     "output_type": "display_data"
    }
   ],
   "source": [
    "import matplotlib.pyplot as plt\n",
    "plt.imshow(cv2.cvtColor(X[50], cv2.COLOR_BGR2RGB))\n",
    "plt.show()"
   ]
  },
  {
   "cell_type": "code",
   "execution_count": 11,
   "metadata": {},
   "outputs": [
    {
     "name": "stdout",
     "output_type": "stream",
     "text": [
      "(19906, 64, 64, 3)\n"
     ]
    }
   ],
   "source": [
    "X = np.array(X,dtype = np.uint8)/255\n",
    "print(X.shape)"
   ]
  },
  {
   "cell_type": "code",
   "execution_count": 12,
   "metadata": {},
   "outputs": [],
   "source": [
    "from sklearn.model_selection import train_test_split\n",
    "X_train, X_csv, Y_train, Y_csv = train_test_split(X, Y, test_size=0.1,random_state = 5)"
   ]
  },
  {
   "cell_type": "code",
   "execution_count": 21,
   "metadata": {},
   "outputs": [],
   "source": [
    "from keras.models import Sequential\n",
    "from keras.layers import Dense, Flatten, Dropout, BatchNormalization\n",
    "from keras_preprocessing.image import ImageDataGenerator"
   ]
  },
  {
   "cell_type": "code",
   "execution_count": 14,
   "metadata": {},
   "outputs": [],
   "source": [
    "datagen = ImageDataGenerator(horizontal_flip = True,rotation_range = 30, shear_range = 0.2)\n",
    "datagen.fit(X_train,augment = True)\n",
    "valgen = ImageDataGenerator()\n",
    "valgen.fit(X_csv)"
   ]
  },
  {
   "cell_type": "code",
   "execution_count": 46,
   "metadata": {},
   "outputs": [],
   "source": [
    "model = Sequential()\n",
    "for l in top_model.layers : \n",
    "    model.add(l)\n",
    "    model.add(BatchNormalization())\n",
    "#model.add(Flatten())\n",
    "model.add(Dense(256,activation = 'relu'))\n",
    "model.add(Dropout(0.2))\n",
    "model.add(BatchNormalization())\n",
    "model.add(Dense(256,activation = 'relu'))\n",
    "model.add(Dropout(0.4))\n",
    "model.add(BatchNormalization())\n",
    "model.add(Dense(3,activation = tf.nn.softmax))"
   ]
  },
  {
   "cell_type": "code",
   "execution_count": 47,
   "metadata": {},
   "outputs": [],
   "source": [
    "from keras.callbacks import ModelCheckpoint\n",
    "filepath=\"age.best.hdf5\"\n",
    "checkpoint = ModelCheckpoint(filepath, monitor='val_acc', save_best_only=True, mode='max')\n",
    "callbacks_list = [checkpoint]"
   ]
  },
  {
   "cell_type": "code",
   "execution_count": 48,
   "metadata": {},
   "outputs": [],
   "source": [
    "model.compile(optimizer = 'adam',metrics = [\"accuracy\"],loss = \"categorical_crossentropy\")"
   ]
  },
  {
   "cell_type": "code",
   "execution_count": 51,
   "metadata": {},
   "outputs": [
    {
     "name": "stdout",
     "output_type": "stream",
     "text": [
      "Epoch 1/20\n",
      "279/279 [==============================] - 444s 2s/step - loss: 0.3309 - acc: 0.8690 - val_loss: 0.4188 - val_acc: 0.8367\n",
      "Epoch 2/20\n",
      "279/279 [==============================] - 443s 2s/step - loss: 0.2995 - acc: 0.8833 - val_loss: 0.4514 - val_acc: 0.8396\n",
      "Epoch 3/20\n",
      "279/279 [==============================] - 443s 2s/step - loss: 0.2700 - acc: 0.8952 - val_loss: 0.4232 - val_acc: 0.8490\n",
      "Epoch 4/20\n",
      "279/279 [==============================] - 443s 2s/step - loss: 0.2508 - acc: 0.9037 - val_loss: 0.3919 - val_acc: 0.8511\n",
      "Epoch 5/20\n",
      "279/279 [==============================] - 443s 2s/step - loss: 0.2229 - acc: 0.9137 - val_loss: 0.3855 - val_acc: 0.8599\n",
      "Epoch 6/20\n",
      "279/279 [==============================] - 443s 2s/step - loss: 0.2003 - acc: 0.9231 - val_loss: 0.4066 - val_acc: 0.8531\n",
      "Epoch 7/20\n",
      "279/279 [==============================] - 443s 2s/step - loss: 0.1790 - acc: 0.9322 - val_loss: 0.4354 - val_acc: 0.8526\n",
      "Epoch 8/20\n",
      "279/279 [==============================] - 443s 2s/step - loss: 0.1733 - acc: 0.9340 - val_loss: 0.3995 - val_acc: 0.8672\n",
      "Epoch 9/20\n",
      "279/279 [==============================] - 443s 2s/step - loss: 0.1519 - acc: 0.9444 - val_loss: 0.4342 - val_acc: 0.8583\n",
      "Epoch 10/20\n",
      "279/279 [==============================] - 443s 2s/step - loss: 0.1420 - acc: 0.9463 - val_loss: 0.4048 - val_acc: 0.8646\n",
      "Epoch 11/20\n",
      "279/279 [==============================] - 443s 2s/step - loss: 0.1353 - acc: 0.9493 - val_loss: 0.4040 - val_acc: 0.8734\n",
      "Epoch 12/20\n",
      "279/279 [==============================] - 443s 2s/step - loss: 0.1196 - acc: 0.9555 - val_loss: 0.4022 - val_acc: 0.8723\n",
      "Epoch 13/20\n",
      "279/279 [==============================] - 443s 2s/step - loss: 0.1130 - acc: 0.9585 - val_loss: 0.4684 - val_acc: 0.8640\n",
      "Epoch 14/20\n",
      "279/279 [==============================] - 443s 2s/step - loss: 0.1023 - acc: 0.9622 - val_loss: 0.4542 - val_acc: 0.8697\n",
      "Epoch 15/20\n",
      "279/279 [==============================] - 443s 2s/step - loss: 0.0988 - acc: 0.9636 - val_loss: 0.4445 - val_acc: 0.8739\n",
      "Epoch 16/20\n",
      "279/279 [==============================] - 443s 2s/step - loss: 0.0980 - acc: 0.9641 - val_loss: 0.4220 - val_acc: 0.8729\n",
      "Epoch 17/20\n",
      "279/279 [==============================] - 443s 2s/step - loss: 0.0886 - acc: 0.9676 - val_loss: 0.4472 - val_acc: 0.8739\n",
      "Epoch 18/20\n",
      "279/279 [==============================] - 443s 2s/step - loss: 0.0891 - acc: 0.9683 - val_loss: 0.4410 - val_acc: 0.8640\n",
      "Epoch 19/20\n",
      "279/279 [==============================] - 443s 2s/step - loss: 0.0881 - acc: 0.9698 - val_loss: 0.4402 - val_acc: 0.8770\n",
      "Epoch 20/20\n",
      "279/279 [==============================] - 443s 2s/step - loss: 0.0739 - acc: 0.9743 - val_loss: 0.4851 - val_acc: 0.8739\n"
     ]
    },
    {
     "data": {
      "text/plain": [
       "<keras.callbacks.History at 0x2720bfa3828>"
      ]
     },
     "execution_count": 51,
     "metadata": {},
     "output_type": "execute_result"
    }
   ],
   "source": [
    "model.fit_generator(datagen.flow(X_train,Y_train,batch_size=64),epochs = 20,steps_per_epoch = 17915//64,validation_data = valgen.flow(X_csv,Y_csv,batch_size = 64),validation_steps = 1991//64,callbacks = callbacks_list)"
   ]
  },
  {
   "cell_type": "code",
   "execution_count": 52,
   "metadata": {},
   "outputs": [
    {
     "name": "stdout",
     "output_type": "stream",
     "text": [
      "_________________________________________________________________\n",
      "Layer (type)                 Output Shape              Param #   \n",
      "=================================================================\n",
      "batch_normalization_27 (Batc (None, None, None, 3)     12        \n",
      "_________________________________________________________________\n",
      "block1_conv1 (Conv2D)        (None, None, None, 64)    1792      \n",
      "_________________________________________________________________\n",
      "batch_normalization_28 (Batc (None, None, None, 64)    256       \n",
      "_________________________________________________________________\n",
      "block1_conv2 (Conv2D)        (None, None, None, 64)    36928     \n",
      "_________________________________________________________________\n",
      "batch_normalization_29 (Batc (None, None, None, 64)    256       \n",
      "_________________________________________________________________\n",
      "block1_pool (MaxPooling2D)   (None, None, None, 64)    0         \n",
      "_________________________________________________________________\n",
      "batch_normalization_30 (Batc (None, None, None, 64)    256       \n",
      "_________________________________________________________________\n",
      "block2_conv1 (Conv2D)        (None, None, None, 128)   73856     \n",
      "_________________________________________________________________\n",
      "batch_normalization_31 (Batc (None, None, None, 128)   512       \n",
      "_________________________________________________________________\n",
      "block2_conv2 (Conv2D)        (None, None, None, 128)   147584    \n",
      "_________________________________________________________________\n",
      "batch_normalization_32 (Batc (None, None, None, 128)   512       \n",
      "_________________________________________________________________\n",
      "block2_pool (MaxPooling2D)   (None, None, None, 128)   0         \n",
      "_________________________________________________________________\n",
      "batch_normalization_33 (Batc (None, None, None, 128)   512       \n",
      "_________________________________________________________________\n",
      "block3_conv1 (Conv2D)        (None, None, None, 256)   295168    \n",
      "_________________________________________________________________\n",
      "batch_normalization_34 (Batc (None, None, None, 256)   1024      \n",
      "_________________________________________________________________\n",
      "block3_conv2 (Conv2D)        (None, None, None, 256)   590080    \n",
      "_________________________________________________________________\n",
      "batch_normalization_35 (Batc (None, None, None, 256)   1024      \n",
      "_________________________________________________________________\n",
      "block3_conv3 (Conv2D)        (None, None, None, 256)   590080    \n",
      "_________________________________________________________________\n",
      "batch_normalization_36 (Batc (None, None, None, 256)   1024      \n",
      "_________________________________________________________________\n",
      "block3_pool (MaxPooling2D)   (None, None, None, 256)   0         \n",
      "_________________________________________________________________\n",
      "batch_normalization_37 (Batc (None, None, None, 256)   1024      \n",
      "_________________________________________________________________\n",
      "block4_conv1 (Conv2D)        (None, None, None, 512)   1180160   \n",
      "_________________________________________________________________\n",
      "batch_normalization_38 (Batc (None, None, None, 512)   2048      \n",
      "_________________________________________________________________\n",
      "block4_conv2 (Conv2D)        (None, None, None, 512)   2359808   \n",
      "_________________________________________________________________\n",
      "batch_normalization_39 (Batc (None, None, None, 512)   2048      \n",
      "_________________________________________________________________\n",
      "block4_conv3 (Conv2D)        (None, None, None, 512)   2359808   \n",
      "_________________________________________________________________\n",
      "batch_normalization_40 (Batc (None, None, None, 512)   2048      \n",
      "_________________________________________________________________\n",
      "block4_pool (MaxPooling2D)   (None, None, None, 512)   0         \n",
      "_________________________________________________________________\n",
      "batch_normalization_41 (Batc (None, None, None, 512)   2048      \n",
      "_________________________________________________________________\n",
      "block5_conv1 (Conv2D)        (None, None, None, 512)   2359808   \n",
      "_________________________________________________________________\n",
      "batch_normalization_42 (Batc (None, None, None, 512)   2048      \n",
      "_________________________________________________________________\n",
      "block5_conv2 (Conv2D)        (None, None, None, 512)   2359808   \n",
      "_________________________________________________________________\n",
      "batch_normalization_43 (Batc (None, None, None, 512)   2048      \n",
      "_________________________________________________________________\n",
      "block5_conv3 (Conv2D)        (None, None, None, 512)   2359808   \n",
      "_________________________________________________________________\n",
      "batch_normalization_44 (Batc (None, None, None, 512)   2048      \n",
      "_________________________________________________________________\n",
      "block5_pool (MaxPooling2D)   (None, None, None, 512)   0         \n",
      "_________________________________________________________________\n",
      "batch_normalization_45 (Batc (None, None, None, 512)   2048      \n",
      "_________________________________________________________________\n",
      "global_max_pooling2d_1 (Glob (None, 512)               0         \n",
      "_________________________________________________________________\n",
      "batch_normalization_46 (Batc (None, 512)               2048      \n",
      "_________________________________________________________________\n",
      "dense_13 (Dense)             (None, 256)               131328    \n",
      "_________________________________________________________________\n",
      "dropout_9 (Dropout)          (None, 256)               0         \n",
      "_________________________________________________________________\n",
      "batch_normalization_47 (Batc (None, 256)               1024      \n",
      "_________________________________________________________________\n",
      "dense_14 (Dense)             (None, 256)               65792     \n",
      "_________________________________________________________________\n",
      "dropout_10 (Dropout)         (None, 256)               0         \n",
      "_________________________________________________________________\n",
      "batch_normalization_48 (Batc (None, 256)               1024      \n",
      "_________________________________________________________________\n",
      "dense_15 (Dense)             (None, 3)                 771       \n",
      "=================================================================\n",
      "Total params: 14,939,471\n",
      "Trainable params: 4,930,953\n",
      "Non-trainable params: 10,008,518\n",
      "_________________________________________________________________\n"
     ]
    }
   ],
   "source": [
    "model.summary()"
   ]
  },
  {
   "cell_type": "code",
   "execution_count": 53,
   "metadata": {},
   "outputs": [],
   "source": [
    "model.load_weights(\"age.best.hdf5\")"
   ]
  },
  {
   "cell_type": "code",
   "execution_count": 54,
   "metadata": {},
   "outputs": [],
   "source": [
    "X_test = []\n",
    "for j in range(Test_Id.shape[0]) :\n",
    "    dir = str(\"Test/\" + str(Test_Id.iloc[j,0])) \n",
    "    temp = cv2.imread(dir.strip(),1)\n",
    "    X_test.append(temp)\n",
    "resized = []\n",
    "for i in X_test :\n",
    "    t = cv2.resize(i,(64,64))\n",
    "    resized.append(t)\n",
    "X_test = np.array(resized,dtype = np.uint8)/255"
   ]
  },
  {
   "cell_type": "code",
   "execution_count": 55,
   "metadata": {},
   "outputs": [],
   "source": [
    "Y_pred = model.predict(x = X_test)"
   ]
  },
  {
   "cell_type": "code",
   "execution_count": 56,
   "metadata": {},
   "outputs": [
    {
     "name": "stdout",
     "output_type": "stream",
     "text": [
      "[[0]\n",
      " [2]\n",
      " [0]\n",
      " ...\n",
      " [0]\n",
      " [0]\n",
      " [2]]\n",
      "(6636, 1)\n"
     ]
    }
   ],
   "source": [
    "Pred = np.argmax(Y_pred,axis = 1)\n",
    "print(Pred.reshape((6636,1)))\n",
    "print(Test_Id.shape)"
   ]
  },
  {
   "cell_type": "code",
   "execution_count": 57,
   "metadata": {},
   "outputs": [],
   "source": [
    "dic = {0: 'MIDDLE', 1: 'OLD', 2: 'YOUNG'}\n",
    "Pred = [dic[x] for x in Pred]\n",
    "sub = pd.DataFrame({'Class':Pred,'ID':Test_Id[\"ID\"]})\n",
    "sub.to_csv('Sub.csv',index=False)"
   ]
  },
  {
   "cell_type": "code",
   "execution_count": 67,
   "metadata": {},
   "outputs": [
    {
     "name": "stdout",
     "output_type": "stream",
     "text": [
      "17915/17915 [==============================] - 214s 12ms/step\n",
      "1991/1991 [==============================] - 26s 13ms/step\n"
     ]
    }
   ],
   "source": [
    "at = model.evaluate(X_train,Y_train)[1]\n",
    "acsv = model.evaluate(X_csv,Y_csv)[1]"
   ]
  },
  {
   "cell_type": "code",
   "execution_count": 68,
   "metadata": {},
   "outputs": [
    {
     "name": "stdout",
     "output_type": "stream",
     "text": [
      "Training set accuracy 98.86128942559893\n",
      "Cross validation set accuracy 87.34304369962857\n"
     ]
    }
   ],
   "source": [
    "print(\"Training set accuracy\",at*100)\n",
    "print(\"Cross validation set accuracy\",acsv*100)"
   ]
  },
  {
   "cell_type": "markdown",
   "metadata": {},
   "source": [
    "Test set accuracy 88.26%"
   ]
  },
  {
   "cell_type": "code",
   "execution_count": null,
   "metadata": {},
   "outputs": [],
   "source": []
  }
 ],
 "metadata": {
  "kernelspec": {
   "display_name": "Python 3",
   "language": "python",
   "name": "python3"
  },
  "language_info": {
   "codemirror_mode": {
    "name": "ipython",
    "version": 3
   },
   "file_extension": ".py",
   "mimetype": "text/x-python",
   "name": "python",
   "nbconvert_exporter": "python",
   "pygments_lexer": "ipython3",
   "version": "3.6.6"
  }
 },
 "nbformat": 4,
 "nbformat_minor": 2
}
